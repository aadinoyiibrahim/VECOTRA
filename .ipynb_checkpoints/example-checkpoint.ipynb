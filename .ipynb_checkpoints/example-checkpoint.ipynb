{
 "cells": [
  {
   "cell_type": "markdown",
   "id": "00bb7722",
   "metadata": {},
   "source": [
    "# VECOTRA\n",
    "* constributors:\n",
    "* * AAI\n",
    "* * CDB"
   ]
  },
  {
   "cell_type": "code",
   "execution_count": 1,
   "id": "40c70f5b",
   "metadata": {},
   "outputs": [
    {
     "name": "stderr",
     "output_type": "stream",
     "text": [
      "/Users/abdullahi/opt/anaconda3/lib/python3.8/site-packages/pyproj/__init__.py:89: UserWarning: pyproj unable to set database path.\n",
      "  _pyproj_global_context_initialize()\n"
     ]
    }
   ],
   "source": [
    "'''\n",
    "import packages\n",
    "'''\n",
    "from vecotra import *\n",
    "from initialization import *\n",
    "import importlib\n",
    "import tools as tl\n",
    "import networkx as nx\n",
    "import pandas as pd"
   ]
  },
  {
   "cell_type": "code",
   "execution_count": null,
   "id": "a88cc81a",
   "metadata": {},
   "outputs": [],
   "source": []
  },
  {
   "cell_type": "code",
   "execution_count": 2,
   "id": "8fa5d399",
   "metadata": {},
   "outputs": [
    {
     "data": {
      "text/plain": [
       "'synt_50_1.0_1.9'"
      ]
     },
     "execution_count": 2,
     "metadata": {},
     "output_type": "execute_result"
    }
   ],
   "source": [
    "# add into YAML\n",
    "# settings\n",
    "p = 1.0\n",
    "alpha_speed = 0.5 # speed parameter\n",
    "alpha = 2 # restituiton alpha\n",
    "pflux = 1.9 # tune topology\n",
    "delta = 1/2\n",
    "ref_pct = 70\n",
    "time_step = 0.09\n",
    "\n",
    "mu_seed = 10\n",
    "seedG = 11 #seed for Graph\n",
    "seedF = 1 #seed for forcing\n",
    "seed_dyn = seedG + seedF #seed for dyn\n",
    "\n",
    "N_real = 5 # num of iterations\n",
    "verbose = 1\n",
    "plot_cost = False\n",
    "tol_var_tdens = 10e-3 \n",
    "opt_setting = 'length'\n",
    "relax_linsys = 1.0e-5\n",
    "threshold_cost = 1.0e-6\n",
    "minCost = 1e14\n",
    "tot_time = 2000\n",
    "verbose = 1\n",
    "\n",
    "tdens_init = None\n",
    "prng = np.random.RandomState(seed=seedG)  # set seed random number generator\n",
    "\n",
    "N = 50\n",
    "model = 'UConstr'\n",
    "\n",
    "weigth = 10.\n",
    "\n",
    "out_folder = './data/output/'\n",
    "\n",
    "flag_out_results = bool(1)\n",
    "flag_plot_results = bool(1)\n",
    "\n",
    "alphas_speed = {0: alpha_speed, 1: 1}\n",
    "\n",
    "pflux_map = {0: pflux}\n",
    "name = 'synt'\n",
    "# save the results\n",
    "label = ('_').join([str(name),str(N),str(p),str(pflux)])\n",
    "label"
   ]
  },
  {
   "cell_type": "code",
   "execution_count": 3,
   "id": "57541f2f",
   "metadata": {},
   "outputs": [],
   "source": [
    "clipping_mode = True\n",
    "constraint_mode = True"
   ]
  },
  {
   "cell_type": "code",
   "execution_count": 4,
   "id": "89a5e853",
   "metadata": {},
   "outputs": [],
   "source": [
    "vecotra_params = VECOTRA(mu_seed,seedG, seedF, model,\n",
    "\t\tpflux,relax_linsys, tot_time, N_real, tol_var_tdens,\n",
    "\t\tthreshold_cost, N, p, weigth, out_folder,\n",
    "\t\tminCost, alpha, ref_pct, time_step, verbose,\n",
    "\t\tconstraint_mode, clipping_mode, plot_cost)"
   ]
  },
  {
   "cell_type": "code",
   "execution_count": 5,
   "id": "d7468e7c",
   "metadata": {},
   "outputs": [],
   "source": [
    "#g = tl.planar_graph(N, L_min = 0.0, L_max = None, domain=(0, 0, 1, 1), seed = seedG)"
   ]
  },
  {
   "cell_type": "code",
   "execution_count": null,
   "id": "18f7caa2",
   "metadata": {},
   "outputs": [],
   "source": []
  },
  {
   "cell_type": "code",
   "execution_count": 6,
   "id": "b8f1218a",
   "metadata": {},
   "outputs": [
    {
     "name": "stdout",
     "output_type": "stream",
     "text": [
      "forcing: imported from file\n",
      "Ncom: 49  Ntransit: 50\n"
     ]
    }
   ],
   "source": [
    "'''\n",
    "Generate graphs\n",
    "'''\n",
    "graph, forcing0, comm_list, transit_list = vecotra_params.import_forcing()"
   ]
  },
  {
   "cell_type": "code",
   "execution_count": 7,
   "id": "d470f416",
   "metadata": {},
   "outputs": [
    {
     "data": {
      "text/plain": [
       "'Graph with 50 nodes and 121 edges'"
      ]
     },
     "execution_count": 7,
     "metadata": {},
     "output_type": "execute_result"
    }
   ],
   "source": [
    "nx.info(graph)"
   ]
  },
  {
   "cell_type": "code",
   "execution_count": 8,
   "id": "322ddda6",
   "metadata": {},
   "outputs": [
    {
     "ename": "NameError",
     "evalue": "name 'G' is not defined",
     "output_type": "error",
     "traceback": [
      "\u001b[0;31m---------------------------------------------------------------------------\u001b[0m",
      "\u001b[0;31mNameError\u001b[0m                                 Traceback (most recent call last)",
      "\u001b[0;32m/var/folders/mw/z0lcvm_j57l5gjx8mshnsnkm0000gn/T/ipykernel_3872/4185397036.py\u001b[0m in \u001b[0;36m<module>\u001b[0;34m\u001b[0m\n\u001b[1;32m      3\u001b[0m '''\n\u001b[1;32m      4\u001b[0m \u001b[0mnode2type\u001b[0m \u001b[0;34m=\u001b[0m \u001b[0;34m{\u001b[0m\u001b[0;34m}\u001b[0m\u001b[0;34m\u001b[0m\u001b[0;34m\u001b[0m\u001b[0m\n\u001b[0;32m----> 5\u001b[0;31m \u001b[0;32mfor\u001b[0m \u001b[0mn\u001b[0m \u001b[0;32min\u001b[0m \u001b[0mlist\u001b[0m\u001b[0;34m(\u001b[0m\u001b[0mG\u001b[0m\u001b[0;34m.\u001b[0m\u001b[0mnodes\u001b[0m\u001b[0;34m(\u001b[0m\u001b[0;34m)\u001b[0m\u001b[0;34m)\u001b[0m\u001b[0;34m:\u001b[0m\u001b[0;34m\u001b[0m\u001b[0;34m\u001b[0m\u001b[0m\n\u001b[0m\u001b[1;32m      6\u001b[0m     \u001b[0mnode2type\u001b[0m\u001b[0;34m[\u001b[0m\u001b[0mn\u001b[0m\u001b[0;34m]\u001b[0m \u001b[0;34m=\u001b[0m \u001b[0;36m0\u001b[0m\u001b[0;34m\u001b[0m\u001b[0;34m\u001b[0m\u001b[0m\n\u001b[1;32m      7\u001b[0m \u001b[0;34m\u001b[0m\u001b[0m\n",
      "\u001b[0;31mNameError\u001b[0m: name 'G' is not defined"
     ]
    }
   ],
   "source": [
    "\n",
    "'''\n",
    "Extract central node position\n",
    "'''\n",
    "node2type = {}\n",
    "for n in list(G.nodes()):\n",
    "    node2type[n] = 0\n",
    "        \n",
    "#pos_center_of_mass_l2,id_center = tl.extract_central_node_l2(G,node2type = node2type)\n",
    "\n",
    "pos_center_of_mass_l2 = (0.5, 0.5)\n",
    "forcing = tl.forcing_generate(G, p = p, weigth = weigth, pos = None, pos_center_of_mass = pos_center_of_mass_l2, seed = seedF)"
   ]
  },
  {
   "cell_type": "code",
   "execution_count": null,
   "id": "fd760478",
   "metadata": {},
   "outputs": [],
   "source": [
    "pos_center_of_mass_l2"
   ]
  },
  {
   "cell_type": "code",
   "execution_count": null,
   "id": "e16886c9",
   "metadata": {},
   "outputs": [],
   "source": [
    "'''\n",
    "Generate graphs\n",
    "'''\n",
    "G = planar_g_2(N,  L_min = 0.0, L_max = None, domain=(0, 0, 1, 1), seed = seedG)\n",
    "N2 = 3\n",
    "H = planar_g_2(N2, G0 = G, subN = N2, L_min = 0.0, L_max = None, domain=(0, 0, 1, 1), seed = seedG)\n",
    "\n",
    "'''\n",
    "Extract central node position\n",
    "'''\n",
    "node2type = {}\n",
    "for n in list(G.nodes()):\n",
    "    if n in H.nodes():\n",
    "        node2type[n] = 2\n",
    "    else:\n",
    "        node2type[n] = 0\n",
    "        \n",
    "#pos_center_of_mass_l2,id_center = tl.extract_central_nodes(G, pos=None, pos_center_of_mass = (0.5,.5))\n",
    "pos_center_of_mass_l2,id_center = tl.extract_central_node_l2(G,node2type = node2type)\n",
    "\n",
    "'''\n",
    "Generate forcing\n",
    "'''\n",
    "#forcing = [[1, 54, 10],[36, 54, 10]]\n",
    "forcing = tl.forcing_generate(G, p = p, weigth = weigth, pos = None, pos_center_of_mass = [0.47010236, 0.54220435], seed = seedF)\n",
    "rhs_df = pd.DataFrame(forcing,columns = ['source','sink','weight'])\n",
    "out_forcing = out_folder + label + '_forcing' + str(seedF) + '.csv'\n",
    "rhs_df.to_csv(out_forcing,sep=' ',header=True,index=False)\n",
    "\n",
    "input_path = out_folder\n",
    "file_edges = label + str(seedG) + '.csv'\n",
    "df = from_nx_graphs2df([G],outfile = input_path + file_edges)\n",
    "\n",
    "edges_file_name = input_path + file_edges\n",
    "\n",
    "graph, nnode, nedge, nodes,nodes_inter, nodeName2Id, nodeId2Name = file2graph(edges_file_name,sep=',')\n",
    "\n",
    "pflux = np.ones(nedge)\n",
    "for idx, (u,v,d) in enumerate(list(graph.edges(data=True))):\n",
    "    pflux[idx] = pflux_map[d['etype']]\n",
    "\n",
    "'''\n",
    "Assign coordinates & length\n",
    "'''\n",
    "coord_file_name = label + str(seedG) + 'coord.csv'\n",
    "df_coord = from_nx_graph2coord([G], nodes, outfile = input_path + coord_file_name, mapping = nodeName2Id,nodes_inter=nodes_inter)\n",
    "#coord_mode = '1'\n",
    "coord_importing(input_path + coord_file_name, G, nid='nodeID',nlat='nodeLat',nlon='nodeLong',sep=',')\n",
    "#coord_generation(coord_mode, input_path, input_path + coord_file_name, graph, nnode,sep=',')\n",
    "\n",
    "#length_mode = 'eucl'\n",
    "#length_inter0 = 0.1\n",
    "#length0 = init.eucledian_bias(length_mode, graph,length_inter0 = length_inter0, haversine_on=False)\n",
    "length0 = tl.compute_euclidean(G)\n",
    "\n",
    "length = assign_weights(length0, list(graph.edges(data=True)), alphas_speed)\n",
    "input_forcing = out_forcing\n",
    "forcing, comm_list, transit_list = forcing_importing_from_file( input_forcing, nodes,nodes_inter,nodeName2Id,sep =' ',header=0,source='source',sink='sink')\n",
    "\n",
    "length_dict = { e: length[idx] for idx, e in enumerate(list(graph.edges())) }\n",
    "nx.set_edge_attributes(graph, length_dict, 'length')\n",
    "length0_dict = { e: length0[idx] for idx, e in enumerate(list(graph.edges())) }\n",
    "nx.set_edge_attributes(graph, length0_dict, 'length0')\n",
    "inv_length_dict = { e: 1. / length[idx] for idx, e in enumerate(list(graph.edges())) }\n",
    "nx.set_edge_attributes(graph, inv_length_dict, 'inv_length')"
   ]
  },
  {
   "cell_type": "code",
   "execution_count": null,
   "id": "40cccdd0",
   "metadata": {},
   "outputs": [],
   "source": [
    "tl.find_central_nodes(G, pos = None, pos_center_of_mass = None)"
   ]
  },
  {
   "cell_type": "code",
   "execution_count": null,
   "id": "d1910ccd",
   "metadata": {},
   "outputs": [],
   "source": [
    "pos = nx.get_node_attributes(G,'pos')\n",
    "positions = np.array(list(pos.values()))\n",
    "np.mean(positions,axis = 0)"
   ]
  },
  {
   "cell_type": "code",
   "execution_count": null,
   "id": "d3963cd4",
   "metadata": {},
   "outputs": [],
   "source": [
    "'''\n",
    "import forcing\n",
    "'''\n",
    "# vectora_params.import_forcing()"
   ]
  },
  {
   "cell_type": "code",
   "execution_count": null,
   "id": "fadf3612",
   "metadata": {},
   "outputs": [],
   "source": [
    "#opttdens['UConstr']"
   ]
  },
  {
   "cell_type": "code",
   "execution_count": null,
   "id": "e57c8687",
   "metadata": {},
   "outputs": [],
   "source": []
  },
  {
   "cell_type": "code",
   "execution_count": 9,
   "id": "65986e69",
   "metadata": {},
   "outputs": [],
   "source": [
    "opttdens, optpot, optflux_norm, minCost = {},{},{},{}\n",
    "minCost_list,optflux, min_g_list = {},{},{}"
   ]
  },
  {
   "cell_type": "code",
   "execution_count": 10,
   "id": "d4e13c0a",
   "metadata": {
    "scrolled": false
   },
   "outputs": [
    {
     "name": "stdout",
     "output_type": "stream",
     "text": [
      "------------------------------\n",
      "Unconstrained MultiOT\n",
      "------------------------------\n",
      "\n",
      " Constr dynamics...\n",
      "capacity shape:(121,)\n",
      "forcing: imported from file\n",
      "Ncom: 49  Ntransit: 50\n",
      "initial # of active constraints: 0\n",
      "cost: 11.889579861450654  - N_real: 0 - Best cost 100000000000000.0\n",
      "initial # of active constraints: 0\n",
      "cost: 11.889579861450654  - N_real: 1 - Best cost 11.889579861450654\n",
      "initial # of active constraints: 0\n",
      "cost: 11.889579861450654  - N_real: 2 - Best cost 11.889579861450654\n",
      "initial # of active constraints: 0\n",
      "cost: 11.889579861450654  - N_real: 3 - Best cost 11.889579861450654\n",
      "initial # of active constraints: 0\n",
      "cost: 11.889579861450654  - N_real: 4 - Best cost 11.889579861450654\n",
      "------------------------------\n",
      "capacity Constrained MultiOT\n",
      "------------------------------\n",
      "edge_capacity=123.5507647434043\n",
      "\n",
      " Constr dynamics...\n",
      "capacity shape:(121,)\n",
      "forcing: imported from file\n",
      "Ncom: 49  Ntransit: 50\n",
      "initial # of active constraints: 0\n",
      "cost: 11.889579861450654  - N_real: 0 - Best cost 100000000000000.0\n",
      "initial # of active constraints: 0\n",
      "cost: 11.889579861450654  - N_real: 1 - Best cost 11.889579861450654\n",
      "initial # of active constraints: 0\n",
      "cost: 11.889579861450654  - N_real: 2 - Best cost 11.889579861450654\n",
      "initial # of active constraints: 0\n",
      "cost: 11.889579861450654  - N_real: 3 - Best cost 11.889579861450654\n",
      "initial # of active constraints: 0\n",
      "cost: 11.889579861450654  - N_real: 4 - Best cost 11.889579861450654\n",
      "------------------------------\n"
     ]
    }
   ],
   "source": [
    "'''\n",
    "----------------------------------------\n",
    "Run dynamics\n",
    "----------------------------------------\n",
    "'''\n",
    "ref_pct = 70\n",
    "plot_cost = 1\n",
    "tdens_init = None\n",
    "coupling = 'l2'\n",
    "\n",
    "print('-'*30)\n",
    "print('Unconstrained MultiOT')\n",
    "print('-'*30)\n",
    "model = 'UConstr'\n",
    "constraint_mode == False\n",
    "constraint = False\n",
    "if model not in opttdens and constraint_mode == constraint_mode:\n",
    "    vecotra_params.execute_dynamics()\n",
    "    opttdens[model], optpot[model],  optflux_norm[model], minCost[model], minCost_list[model],optflux[model], min_g_list[model] = vecotra_params.export_results()\n",
    "    \n",
    "print('-'*30)\n",
    "print('capacity Constrained MultiOT')\n",
    "print('-'*30)\n",
    "model = 'capacity'\n",
    "constraint_mode = True\n",
    "alpha = 2 \n",
    "capacity = np.percentile(opttdens['UConstr'],ref_pct) #round(np.percentile(opttdens['UConstr'],ref_pct) , 13)\n",
    "time_step = 0.09 # 0.001 \n",
    "tot_time = 2000\n",
    "print(f'edge_capacity={capacity}')\n",
    "if constraint_mode == constraint_mode:\n",
    "    vecotra_params.execute_dynamics()\n",
    "    opttdens[model], optpot[model],  optflux_norm[model], minCost[model], minCost_list[model],optflux[model], min_g_list[model] = vecotra_params.export_results()\n",
    "\n",
    "print('-'*30)\n",
    "flux = {}\n",
    "#flux['UConstr'] = np.copy(optflux_old)\n",
    "for k in optflux.keys():\n",
    "    flux[k] = np.copy(optflux[k])\n",
    "# --------------------------------------------------------\n",
    "algos = list(flux.keys())\n",
    "flux_norm1 = {a: np.linalg.norm(flux[a], axis=1,ord = 1) for a in algos} "
   ]
  },
  {
   "cell_type": "code",
   "execution_count": null,
   "id": "becdae33",
   "metadata": {},
   "outputs": [],
   "source": [
    "plot_name = 'topology'\n",
    "if flag_plot_results == True:\n",
    "    outfigure = None\n",
    "    algo_labels = {a:a for a in flux.keys()}\n",
    "    #plot_results(graph,flux_norm1,algo_labels= algo_labels,w1 = 0.01, figsize=(10,5),ns = 10,outfigure = outfigure)\n",
    "    G_plot = tl.plot_results_all_algos(graph,flux_norm1,algo_labels= algo_labels,w1 = 0.01, figsize=(10,5),ns = 10,outfigure = outfigure)"
   ]
  },
  {
   "cell_type": "code",
   "execution_count": null,
   "id": "0cb10a57",
   "metadata": {},
   "outputs": [],
   "source": []
  },
  {
   "cell_type": "code",
   "execution_count": null,
   "id": "e996e8b1",
   "metadata": {},
   "outputs": [],
   "source": []
  },
  {
   "cell_type": "code",
   "execution_count": null,
   "id": "9f9f786b",
   "metadata": {},
   "outputs": [],
   "source": []
  },
  {
   "cell_type": "code",
   "execution_count": null,
   "id": "04695a46",
   "metadata": {},
   "outputs": [],
   "source": []
  },
  {
   "cell_type": "code",
   "execution_count": null,
   "id": "d01e882b",
   "metadata": {},
   "outputs": [],
   "source": []
  }
 ],
 "metadata": {
  "kernelspec": {
   "display_name": "Python 3 (ipykernel)",
   "language": "python",
   "name": "python3"
  },
  "language_info": {
   "codemirror_mode": {
    "name": "ipython",
    "version": 3
   },
   "file_extension": ".py",
   "mimetype": "text/x-python",
   "name": "python",
   "nbconvert_exporter": "python",
   "pygments_lexer": "ipython3",
   "version": "3.8.12"
  }
 },
 "nbformat": 4,
 "nbformat_minor": 5
}
